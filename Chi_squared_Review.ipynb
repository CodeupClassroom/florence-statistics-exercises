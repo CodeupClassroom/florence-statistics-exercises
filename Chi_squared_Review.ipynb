{
 "cells": [
  {
   "cell_type": "markdown",
   "metadata": {},
   "source": [
    "1. Use the following contingency table to help answer the question of whether using a macbook and being a codeup student are independent of each other."
   ]
  },
  {
   "cell_type": "code",
   "execution_count": 1,
   "metadata": {},
   "outputs": [],
   "source": [
    "# imports\n",
    "import numpy as np\n",
    "import pandas as pd\n",
    "from scipy import stats\n",
    "from pydataset import data\n",
    "from env import usr, pw, host\n",
    "from sqlalchemy import create_engine"
   ]
  },
  {
   "cell_type": "code",
   "execution_count": null,
   "metadata": {},
   "outputs": [],
   "source": [
    "Codeup Student \tNot Codeup Student\n",
    "Uses a Macbook \t49 \t20\n",
    "Doesn't Use A Macbook \t1 \t30"
   ]
  },
  {
   "cell_type": "code",
   "execution_count": 3,
   "metadata": {},
   "outputs": [],
   "source": [
    "contingency = pd.DataFrame({'codeup_student': [49,1], 'not_codeup_student': [20,30]}, index=['uses_macbook', 'not_macbook'])"
   ]
  },
  {
   "cell_type": "code",
   "execution_count": 4,
   "metadata": {},
   "outputs": [
    {
     "data": {
      "text/html": [
       "<div>\n",
       "<style scoped>\n",
       "    .dataframe tbody tr th:only-of-type {\n",
       "        vertical-align: middle;\n",
       "    }\n",
       "\n",
       "    .dataframe tbody tr th {\n",
       "        vertical-align: top;\n",
       "    }\n",
       "\n",
       "    .dataframe thead th {\n",
       "        text-align: right;\n",
       "    }\n",
       "</style>\n",
       "<table border=\"1\" class=\"dataframe\">\n",
       "  <thead>\n",
       "    <tr style=\"text-align: right;\">\n",
       "      <th></th>\n",
       "      <th>codeup_student</th>\n",
       "      <th>not_codeup_student</th>\n",
       "    </tr>\n",
       "  </thead>\n",
       "  <tbody>\n",
       "    <tr>\n",
       "      <th>uses_macbook</th>\n",
       "      <td>49</td>\n",
       "      <td>20</td>\n",
       "    </tr>\n",
       "    <tr>\n",
       "      <th>not_macbook</th>\n",
       "      <td>1</td>\n",
       "      <td>30</td>\n",
       "    </tr>\n",
       "  </tbody>\n",
       "</table>\n",
       "</div>"
      ],
      "text/plain": [
       "              codeup_student  not_codeup_student\n",
       "uses_macbook              49                  20\n",
       "not_macbook                1                  30"
      ]
     },
     "execution_count": 4,
     "metadata": {},
     "output_type": "execute_result"
    }
   ],
   "source": [
    "contingency"
   ]
  },
  {
   "cell_type": "code",
   "execution_count": null,
   "metadata": {},
   "outputs": [],
   "source": [
    "# Establish a null hypothesis"
   ]
  },
  {
   "cell_type": "code",
   "execution_count": 5,
   "metadata": {},
   "outputs": [],
   "source": [
    "# H0: Macbook Usage is independent of being a Codeup student"
   ]
  },
  {
   "cell_type": "code",
   "execution_count": 6,
   "metadata": {},
   "outputs": [],
   "source": [
    "chi2, p, degf, expected = stats.chi2_contingency(contingency)"
   ]
  },
  {
   "cell_type": "code",
   "execution_count": 7,
   "metadata": {},
   "outputs": [],
   "source": [
    "confidence = 0.95\n",
    "alpha = 1- confidence"
   ]
  },
  {
   "cell_type": "code",
   "execution_count": 9,
   "metadata": {},
   "outputs": [
    {
     "name": "stdout",
     "output_type": "stream",
     "text": [
      "Observed:\n",
      ":\n",
      "              codeup_student  not_codeup_student\n",
      "uses_macbook              49                  20\n",
      "not_macbook                1                  30\n",
      "~~~~~~~~~~~~~~~~~~~~~~\n",
      "Expected: \n",
      "\n",
      "              codeup_student  not_codeup_student\n",
      "uses_macbook            34.5                34.5\n",
      "not_macbook             15.5                15.5\n",
      "~~~~~~~~~~~~~~~~~~~~~~\n",
      "chi^2 value: 36.6526\n",
      "p value: 0.00000000\n",
      "Our p value is less than our alpha and we can reject the null hypothesis, indicating that macbook use is not necessarily independent of codeup matriculation\n"
     ]
    }
   ],
   "source": [
    "print('Observed:\\n:')\n",
    "print(contingency)\n",
    "print('~~~~~~~~~~~~~~~~~~~~~~')\n",
    "print('Expected: \\n')\n",
    "print(pd.DataFrame(expected, index=contingency.index, columns=contingency.columns))\n",
    "print('~~~~~~~~~~~~~~~~~~~~~~')\n",
    "print(f'chi^2 value: {chi2:.4f}')\n",
    "print(f'p value: {p:.8f}')\n",
    "if p < alpha:\n",
    "    print('Our p value is less than our alpha and we can reject the null hypothesis, indicating that macbook use is not necessarily independent of codeup matriculation')\n",
    "else:\n",
    "    print('We cannot reject the null hypothesis')"
   ]
  },
  {
   "cell_type": "markdown",
   "metadata": {},
   "source": [
    "### 2. Choose another 2 categorical variables from the mpg dataset and perform a chi2 contingency table test with them. Be sure to state your null and alternative hypotheses."
   ]
  },
  {
   "cell_type": "code",
   "execution_count": 10,
   "metadata": {},
   "outputs": [],
   "source": [
    "mpg = data('mpg')"
   ]
  },
  {
   "cell_type": "code",
   "execution_count": 11,
   "metadata": {},
   "outputs": [
    {
     "name": "stdout",
     "output_type": "stream",
     "text": [
      "mpg\n",
      "\n",
      "PyDataset Documentation (adopted from R Documentation. The displayed examples are in R)\n",
      "\n",
      "## Fuel economy data from 1999 and 2008 for 38 popular models of car\n",
      "\n",
      "### Description\n",
      "\n",
      "This dataset contains a subset of the fuel economy data that the EPA makes\n",
      "available on http://fueleconomy.gov. It contains only models which had a new\n",
      "release every year between 1999 and 2008 - this was used as a proxy for the\n",
      "popularity of the car.\n",
      "\n",
      "### Usage\n",
      "\n",
      "    data(mpg)\n",
      "\n",
      "### Format\n",
      "\n",
      "A data frame with 234 rows and 11 variables\n",
      "\n",
      "### Details\n",
      "\n",
      "  * manufacturer. \n",
      "\n",
      "  * model. \n",
      "\n",
      "  * displ. engine displacement, in litres \n",
      "\n",
      "  * year. \n",
      "\n",
      "  * cyl. number of cylinders \n",
      "\n",
      "  * trans. type of transmission \n",
      "\n",
      "  * drv. f = front-wheel drive, r = rear wheel drive, 4 = 4wd \n",
      "\n",
      "  * cty. city miles per gallon \n",
      "\n",
      "  * hwy. highway miles per gallon \n",
      "\n",
      "  * fl. \n",
      "\n",
      "  * class. \n",
      "\n",
      "\n"
     ]
    }
   ],
   "source": [
    "data('mpg', show_doc='True')"
   ]
  },
  {
   "cell_type": "code",
   "execution_count": 12,
   "metadata": {},
   "outputs": [
    {
     "name": "stdout",
     "output_type": "stream",
     "text": [
      "<class 'pandas.core.frame.DataFrame'>\n",
      "Int64Index: 234 entries, 1 to 234\n",
      "Data columns (total 11 columns):\n",
      " #   Column        Non-Null Count  Dtype  \n",
      "---  ------        --------------  -----  \n",
      " 0   manufacturer  234 non-null    object \n",
      " 1   model         234 non-null    object \n",
      " 2   displ         234 non-null    float64\n",
      " 3   year          234 non-null    int64  \n",
      " 4   cyl           234 non-null    int64  \n",
      " 5   trans         234 non-null    object \n",
      " 6   drv           234 non-null    object \n",
      " 7   cty           234 non-null    int64  \n",
      " 8   hwy           234 non-null    int64  \n",
      " 9   fl            234 non-null    object \n",
      " 10  class         234 non-null    object \n",
      "dtypes: float64(1), int64(4), object(6)\n",
      "memory usage: 21.9+ KB\n"
     ]
    }
   ],
   "source": [
    "mpg.info()"
   ]
  },
  {
   "cell_type": "code",
   "execution_count": 15,
   "metadata": {},
   "outputs": [
    {
     "data": {
      "text/plain": [
       "suv           62\n",
       "compact       47\n",
       "midsize       41\n",
       "subcompact    35\n",
       "pickup        33\n",
       "minivan       11\n",
       "2seater        5\n",
       "Name: class, dtype: int64"
      ]
     },
     "execution_count": 15,
     "metadata": {},
     "output_type": "execute_result"
    }
   ],
   "source": [
    "mpg['class'].value_counts()"
   ]
  },
  {
   "cell_type": "code",
   "execution_count": 16,
   "metadata": {},
   "outputs": [
    {
     "data": {
      "text/plain": [
       "dodge         37\n",
       "toyota        34\n",
       "volkswagen    27\n",
       "ford          25\n",
       "chevrolet     19\n",
       "audi          18\n",
       "subaru        14\n",
       "hyundai       14\n",
       "nissan        13\n",
       "honda          9\n",
       "jeep           8\n",
       "pontiac        5\n",
       "land rover     4\n",
       "mercury        4\n",
       "lincoln        3\n",
       "Name: manufacturer, dtype: int64"
      ]
     },
     "execution_count": 16,
     "metadata": {},
     "output_type": "execute_result"
    }
   ],
   "source": [
    "mpg['manufacturer'].value_counts()"
   ]
  },
  {
   "cell_type": "code",
   "execution_count": 18,
   "metadata": {},
   "outputs": [
    {
     "data": {
      "text/html": [
       "<div>\n",
       "<style scoped>\n",
       "    .dataframe tbody tr th:only-of-type {\n",
       "        vertical-align: middle;\n",
       "    }\n",
       "\n",
       "    .dataframe tbody tr th {\n",
       "        vertical-align: top;\n",
       "    }\n",
       "\n",
       "    .dataframe thead th {\n",
       "        text-align: right;\n",
       "    }\n",
       "</style>\n",
       "<table border=\"1\" class=\"dataframe\">\n",
       "  <thead>\n",
       "    <tr style=\"text-align: right;\">\n",
       "      <th>manufacturer</th>\n",
       "      <th>audi</th>\n",
       "      <th>chevrolet</th>\n",
       "      <th>dodge</th>\n",
       "      <th>ford</th>\n",
       "      <th>honda</th>\n",
       "      <th>hyundai</th>\n",
       "      <th>jeep</th>\n",
       "      <th>land rover</th>\n",
       "      <th>lincoln</th>\n",
       "      <th>mercury</th>\n",
       "      <th>nissan</th>\n",
       "      <th>pontiac</th>\n",
       "      <th>subaru</th>\n",
       "      <th>toyota</th>\n",
       "      <th>volkswagen</th>\n",
       "    </tr>\n",
       "    <tr>\n",
       "      <th>class</th>\n",
       "      <th></th>\n",
       "      <th></th>\n",
       "      <th></th>\n",
       "      <th></th>\n",
       "      <th></th>\n",
       "      <th></th>\n",
       "      <th></th>\n",
       "      <th></th>\n",
       "      <th></th>\n",
       "      <th></th>\n",
       "      <th></th>\n",
       "      <th></th>\n",
       "      <th></th>\n",
       "      <th></th>\n",
       "      <th></th>\n",
       "    </tr>\n",
       "  </thead>\n",
       "  <tbody>\n",
       "    <tr>\n",
       "      <th>2seater</th>\n",
       "      <td>0</td>\n",
       "      <td>5</td>\n",
       "      <td>0</td>\n",
       "      <td>0</td>\n",
       "      <td>0</td>\n",
       "      <td>0</td>\n",
       "      <td>0</td>\n",
       "      <td>0</td>\n",
       "      <td>0</td>\n",
       "      <td>0</td>\n",
       "      <td>0</td>\n",
       "      <td>0</td>\n",
       "      <td>0</td>\n",
       "      <td>0</td>\n",
       "      <td>0</td>\n",
       "    </tr>\n",
       "    <tr>\n",
       "      <th>compact</th>\n",
       "      <td>15</td>\n",
       "      <td>0</td>\n",
       "      <td>0</td>\n",
       "      <td>0</td>\n",
       "      <td>0</td>\n",
       "      <td>0</td>\n",
       "      <td>0</td>\n",
       "      <td>0</td>\n",
       "      <td>0</td>\n",
       "      <td>0</td>\n",
       "      <td>2</td>\n",
       "      <td>0</td>\n",
       "      <td>4</td>\n",
       "      <td>12</td>\n",
       "      <td>14</td>\n",
       "    </tr>\n",
       "    <tr>\n",
       "      <th>midsize</th>\n",
       "      <td>3</td>\n",
       "      <td>5</td>\n",
       "      <td>0</td>\n",
       "      <td>0</td>\n",
       "      <td>0</td>\n",
       "      <td>7</td>\n",
       "      <td>0</td>\n",
       "      <td>0</td>\n",
       "      <td>0</td>\n",
       "      <td>0</td>\n",
       "      <td>7</td>\n",
       "      <td>5</td>\n",
       "      <td>0</td>\n",
       "      <td>7</td>\n",
       "      <td>7</td>\n",
       "    </tr>\n",
       "    <tr>\n",
       "      <th>minivan</th>\n",
       "      <td>0</td>\n",
       "      <td>0</td>\n",
       "      <td>11</td>\n",
       "      <td>0</td>\n",
       "      <td>0</td>\n",
       "      <td>0</td>\n",
       "      <td>0</td>\n",
       "      <td>0</td>\n",
       "      <td>0</td>\n",
       "      <td>0</td>\n",
       "      <td>0</td>\n",
       "      <td>0</td>\n",
       "      <td>0</td>\n",
       "      <td>0</td>\n",
       "      <td>0</td>\n",
       "    </tr>\n",
       "    <tr>\n",
       "      <th>pickup</th>\n",
       "      <td>0</td>\n",
       "      <td>0</td>\n",
       "      <td>19</td>\n",
       "      <td>7</td>\n",
       "      <td>0</td>\n",
       "      <td>0</td>\n",
       "      <td>0</td>\n",
       "      <td>0</td>\n",
       "      <td>0</td>\n",
       "      <td>0</td>\n",
       "      <td>0</td>\n",
       "      <td>0</td>\n",
       "      <td>0</td>\n",
       "      <td>7</td>\n",
       "      <td>0</td>\n",
       "    </tr>\n",
       "    <tr>\n",
       "      <th>subcompact</th>\n",
       "      <td>0</td>\n",
       "      <td>0</td>\n",
       "      <td>0</td>\n",
       "      <td>9</td>\n",
       "      <td>9</td>\n",
       "      <td>7</td>\n",
       "      <td>0</td>\n",
       "      <td>0</td>\n",
       "      <td>0</td>\n",
       "      <td>0</td>\n",
       "      <td>0</td>\n",
       "      <td>0</td>\n",
       "      <td>4</td>\n",
       "      <td>0</td>\n",
       "      <td>6</td>\n",
       "    </tr>\n",
       "    <tr>\n",
       "      <th>suv</th>\n",
       "      <td>0</td>\n",
       "      <td>9</td>\n",
       "      <td>7</td>\n",
       "      <td>9</td>\n",
       "      <td>0</td>\n",
       "      <td>0</td>\n",
       "      <td>8</td>\n",
       "      <td>4</td>\n",
       "      <td>3</td>\n",
       "      <td>4</td>\n",
       "      <td>4</td>\n",
       "      <td>0</td>\n",
       "      <td>6</td>\n",
       "      <td>8</td>\n",
       "      <td>0</td>\n",
       "    </tr>\n",
       "  </tbody>\n",
       "</table>\n",
       "</div>"
      ],
      "text/plain": [
       "manufacturer  audi  chevrolet  dodge  ford  honda  hyundai  jeep  land rover  \\\n",
       "class                                                                          \n",
       "2seater          0          5      0     0      0        0     0           0   \n",
       "compact         15          0      0     0      0        0     0           0   \n",
       "midsize          3          5      0     0      0        7     0           0   \n",
       "minivan          0          0     11     0      0        0     0           0   \n",
       "pickup           0          0     19     7      0        0     0           0   \n",
       "subcompact       0          0      0     9      9        7     0           0   \n",
       "suv              0          9      7     9      0        0     8           4   \n",
       "\n",
       "manufacturer  lincoln  mercury  nissan  pontiac  subaru  toyota  volkswagen  \n",
       "class                                                                        \n",
       "2seater             0        0       0        0       0       0           0  \n",
       "compact             0        0       2        0       4      12          14  \n",
       "midsize             0        0       7        5       0       7           7  \n",
       "minivan             0        0       0        0       0       0           0  \n",
       "pickup              0        0       0        0       0       7           0  \n",
       "subcompact          0        0       0        0       4       0           6  \n",
       "suv                 3        4       4        0       6       8           0  "
      ]
     },
     "execution_count": 18,
     "metadata": {},
     "output_type": "execute_result"
    }
   ],
   "source": [
    "observed = pd.crosstab(mpg['class'], mpg['manufacturer'])\n",
    "observed"
   ]
  },
  {
   "cell_type": "code",
   "execution_count": 19,
   "metadata": {},
   "outputs": [],
   "source": [
    "# Null hypothesis:\n",
    "#  H0: Vehicle manufacturer is independent of vehicle class type\n",
    "# keep same alpha and confidence : 0.05 / .95"
   ]
  },
  {
   "cell_type": "code",
   "execution_count": 20,
   "metadata": {},
   "outputs": [],
   "source": [
    "chi2, p, degf, expected = stats.chi2_contingency(observed)"
   ]
  },
  {
   "cell_type": "code",
   "execution_count": 21,
   "metadata": {},
   "outputs": [
    {
     "name": "stdout",
     "output_type": "stream",
     "text": [
      "Observed:\n",
      "\n",
      "manufacturer  audi  chevrolet  dodge  ford  honda  hyundai  jeep  land rover  \\\n",
      "class                                                                          \n",
      "2seater          0          5      0     0      0        0     0           0   \n",
      "compact         15          0      0     0      0        0     0           0   \n",
      "midsize          3          5      0     0      0        7     0           0   \n",
      "minivan          0          0     11     0      0        0     0           0   \n",
      "pickup           0          0     19     7      0        0     0           0   \n",
      "subcompact       0          0      0     9      9        7     0           0   \n",
      "suv              0          9      7     9      0        0     8           4   \n",
      "\n",
      "manufacturer  lincoln  mercury  nissan  pontiac  subaru  toyota  volkswagen  \n",
      "class                                                                        \n",
      "2seater             0        0       0        0       0       0           0  \n",
      "compact             0        0       2        0       4      12          14  \n",
      "midsize             0        0       7        5       0       7           7  \n",
      "minivan             0        0       0        0       0       0           0  \n",
      "pickup              0        0       0        0       0       7           0  \n",
      "subcompact          0        0       0        0       4       0           6  \n",
      "suv                 3        4       4        0       6       8           0  \n",
      "~~~~~~~~~~~~~~~~~~~~~~\n",
      "Expected: \n",
      "\n",
      "manufacturer      audi  chevrolet     dodge      ford     honda   hyundai  \\\n",
      "class                                                                       \n",
      "2seater       0.384615   0.405983  0.790598  0.534188  0.192308  0.299145   \n",
      "compact       3.615385   3.816239  7.431624  5.021368  1.807692  2.811966   \n",
      "midsize       3.153846   3.329060  6.482906  4.380342  1.576923  2.452991   \n",
      "minivan       0.846154   0.893162  1.739316  1.175214  0.423077  0.658120   \n",
      "pickup        2.538462   2.679487  5.217949  3.525641  1.269231  1.974359   \n",
      "subcompact    2.692308   2.841880  5.534188  3.739316  1.346154  2.094017   \n",
      "suv           4.769231   5.034188  9.803419  6.623932  2.384615  3.709402   \n",
      "\n",
      "manufacturer      jeep  land rover   lincoln   mercury    nissan   pontiac  \\\n",
      "class                                                                        \n",
      "2seater       0.170940    0.085470  0.064103  0.085470  0.277778  0.106838   \n",
      "compact       1.606838    0.803419  0.602564  0.803419  2.611111  1.004274   \n",
      "midsize       1.401709    0.700855  0.525641  0.700855  2.277778  0.876068   \n",
      "minivan       0.376068    0.188034  0.141026  0.188034  0.611111  0.235043   \n",
      "pickup        1.128205    0.564103  0.423077  0.564103  1.833333  0.705128   \n",
      "subcompact    1.196581    0.598291  0.448718  0.598291  1.944444  0.747863   \n",
      "suv           2.119658    1.059829  0.794872  1.059829  3.444444  1.324786   \n",
      "\n",
      "manufacturer    subaru    toyota  volkswagen  \n",
      "class                                         \n",
      "2seater       0.299145  0.726496    0.576923  \n",
      "compact       2.811966  6.829060    5.423077  \n",
      "midsize       2.452991  5.957265    4.730769  \n",
      "minivan       0.658120  1.598291    1.269231  \n",
      "pickup        1.974359  4.794872    3.807692  \n",
      "subcompact    2.094017  5.085470    4.038462  \n",
      "suv           3.709402  9.008547    7.153846  \n",
      "~~~~~~~~~~~~~~~~~~~~~~\n",
      "chi^2 value: 464.3721\n",
      "p value: 0.00000000\n",
      "degrees of freedom: 84\n",
      "Our p value is less than our alpha and we can reject the null hypothesis\n",
      "         We can suggest that vehicle class type if not independent of manufacturer\n"
     ]
    }
   ],
   "source": [
    "print('Observed:\\n')\n",
    "print(observed)\n",
    "print('~~~~~~~~~~~~~~~~~~~~~~')\n",
    "print('Expected: \\n')\n",
    "print(pd.DataFrame(expected, index=observed.index, columns=observed.columns))\n",
    "print('~~~~~~~~~~~~~~~~~~~~~~')\n",
    "print(f'chi^2 value: {chi2:.4f}')\n",
    "print(f'p value: {p:.8f}')\n",
    "print(f'degrees of freedom: {degf}')\n",
    "if p < alpha:\n",
    "    print('''Our p value is less than our alpha and we can reject the null hypothesis\n",
    "         We can suggest that vehicle class type if not independent of manufacturer''')\n",
    "else:\n",
    "    print('We cannot reject the null hypothesis')"
   ]
  },
  {
   "cell_type": "code",
   "execution_count": 22,
   "metadata": {},
   "outputs": [
    {
     "data": {
      "text/plain": [
       "(7, 15)"
      ]
     },
     "execution_count": 22,
     "metadata": {},
     "output_type": "execute_result"
    }
   ],
   "source": [
    "observed.shape"
   ]
  },
  {
   "cell_type": "code",
   "execution_count": 24,
   "metadata": {},
   "outputs": [
    {
     "data": {
      "text/plain": [
       "105"
      ]
     },
     "execution_count": 24,
     "metadata": {},
     "output_type": "execute_result"
    }
   ],
   "source": [
    "7 * 15"
   ]
  },
  {
   "cell_type": "markdown",
   "metadata": {},
   "source": [
    "## 3. Use the data from the employees database to answer these questions:"
   ]
  },
  {
   "cell_type": "markdown",
   "metadata": {},
   "source": [
    "### Is an employee's gender independent of whether an employee works in sales or marketing? (only look at current employees)\n"
   ]
  },
  {
   "cell_type": "code",
   "execution_count": 25,
   "metadata": {},
   "outputs": [],
   "source": [
    "# set up sql connection"
   ]
  },
  {
   "cell_type": "code",
   "execution_count": 26,
   "metadata": {},
   "outputs": [],
   "source": [
    "def get_connection(db, user, host, password):\n",
    "    url = f'mysql+pymysql://{user}:{password}@{host}/{db}'\n",
    "    return create_engine(url)"
   ]
  },
  {
   "cell_type": "code",
   "execution_count": 27,
   "metadata": {},
   "outputs": [],
   "source": [
    "conn = get_connection('employees', usr, host, pw)"
   ]
  },
  {
   "cell_type": "code",
   "execution_count": 28,
   "metadata": {},
   "outputs": [],
   "source": [
    "# make our query for the parameters that we want:"
   ]
  },
  {
   "cell_type": "code",
   "execution_count": 29,
   "metadata": {},
   "outputs": [],
   "source": [
    "query = '''SELECT e.gender, d.dept_name\n",
    "FROM employees e\n",
    "JOIN dept_emp de ON de.emp_no = e.emp_no\n",
    "AND de.to_date > NOW()\n",
    "JOIN departments d ON d.dept_no = de.dept_no'''"
   ]
  },
  {
   "cell_type": "code",
   "execution_count": 30,
   "metadata": {},
   "outputs": [],
   "source": [
    "# load up our data\n",
    "gender_dept = pd.read_sql(query, conn)"
   ]
  },
  {
   "cell_type": "code",
   "execution_count": 31,
   "metadata": {},
   "outputs": [
    {
     "data": {
      "text/html": [
       "<div>\n",
       "<style scoped>\n",
       "    .dataframe tbody tr th:only-of-type {\n",
       "        vertical-align: middle;\n",
       "    }\n",
       "\n",
       "    .dataframe tbody tr th {\n",
       "        vertical-align: top;\n",
       "    }\n",
       "\n",
       "    .dataframe thead th {\n",
       "        text-align: right;\n",
       "    }\n",
       "</style>\n",
       "<table border=\"1\" class=\"dataframe\">\n",
       "  <thead>\n",
       "    <tr style=\"text-align: right;\">\n",
       "      <th></th>\n",
       "      <th>gender</th>\n",
       "      <th>dept_name</th>\n",
       "    </tr>\n",
       "  </thead>\n",
       "  <tbody>\n",
       "    <tr>\n",
       "      <th>0</th>\n",
       "      <td>M</td>\n",
       "      <td>Customer Service</td>\n",
       "    </tr>\n",
       "    <tr>\n",
       "      <th>1</th>\n",
       "      <td>F</td>\n",
       "      <td>Customer Service</td>\n",
       "    </tr>\n",
       "    <tr>\n",
       "      <th>2</th>\n",
       "      <td>M</td>\n",
       "      <td>Customer Service</td>\n",
       "    </tr>\n",
       "    <tr>\n",
       "      <th>3</th>\n",
       "      <td>F</td>\n",
       "      <td>Customer Service</td>\n",
       "    </tr>\n",
       "    <tr>\n",
       "      <th>4</th>\n",
       "      <td>F</td>\n",
       "      <td>Customer Service</td>\n",
       "    </tr>\n",
       "  </tbody>\n",
       "</table>\n",
       "</div>"
      ],
      "text/plain": [
       "  gender         dept_name\n",
       "0      M  Customer Service\n",
       "1      F  Customer Service\n",
       "2      M  Customer Service\n",
       "3      F  Customer Service\n",
       "4      F  Customer Service"
      ]
     },
     "execution_count": 31,
     "metadata": {},
     "output_type": "execute_result"
    }
   ],
   "source": [
    "gender_dept.head()"
   ]
  },
  {
   "cell_type": "code",
   "execution_count": 34,
   "metadata": {},
   "outputs": [],
   "source": [
    "gender_dept = gender_dept[(gender_dept.dept_name == 'Sales') | (gender_dept.dept_name == 'Marketing')]"
   ]
  },
  {
   "cell_type": "code",
   "execution_count": 35,
   "metadata": {},
   "outputs": [
    {
     "data": {
      "text/html": [
       "<div>\n",
       "<style scoped>\n",
       "    .dataframe tbody tr th:only-of-type {\n",
       "        vertical-align: middle;\n",
       "    }\n",
       "\n",
       "    .dataframe tbody tr th {\n",
       "        vertical-align: top;\n",
       "    }\n",
       "\n",
       "    .dataframe thead th {\n",
       "        text-align: right;\n",
       "    }\n",
       "</style>\n",
       "<table border=\"1\" class=\"dataframe\">\n",
       "  <thead>\n",
       "    <tr style=\"text-align: right;\">\n",
       "      <th></th>\n",
       "      <th>gender</th>\n",
       "      <th>dept_name</th>\n",
       "    </tr>\n",
       "  </thead>\n",
       "  <tbody>\n",
       "    <tr>\n",
       "      <th>104290</th>\n",
       "      <td>F</td>\n",
       "      <td>Marketing</td>\n",
       "    </tr>\n",
       "    <tr>\n",
       "      <th>104291</th>\n",
       "      <td>M</td>\n",
       "      <td>Marketing</td>\n",
       "    </tr>\n",
       "    <tr>\n",
       "      <th>104292</th>\n",
       "      <td>F</td>\n",
       "      <td>Marketing</td>\n",
       "    </tr>\n",
       "    <tr>\n",
       "      <th>104293</th>\n",
       "      <td>F</td>\n",
       "      <td>Marketing</td>\n",
       "    </tr>\n",
       "    <tr>\n",
       "      <th>104294</th>\n",
       "      <td>F</td>\n",
       "      <td>Marketing</td>\n",
       "    </tr>\n",
       "    <tr>\n",
       "      <th>...</th>\n",
       "      <td>...</td>\n",
       "      <td>...</td>\n",
       "    </tr>\n",
       "    <tr>\n",
       "      <th>240119</th>\n",
       "      <td>F</td>\n",
       "      <td>Sales</td>\n",
       "    </tr>\n",
       "    <tr>\n",
       "      <th>240120</th>\n",
       "      <td>M</td>\n",
       "      <td>Sales</td>\n",
       "    </tr>\n",
       "    <tr>\n",
       "      <th>240121</th>\n",
       "      <td>M</td>\n",
       "      <td>Sales</td>\n",
       "    </tr>\n",
       "    <tr>\n",
       "      <th>240122</th>\n",
       "      <td>F</td>\n",
       "      <td>Sales</td>\n",
       "    </tr>\n",
       "    <tr>\n",
       "      <th>240123</th>\n",
       "      <td>F</td>\n",
       "      <td>Sales</td>\n",
       "    </tr>\n",
       "  </tbody>\n",
       "</table>\n",
       "<p>52543 rows × 2 columns</p>\n",
       "</div>"
      ],
      "text/plain": [
       "       gender  dept_name\n",
       "104290      F  Marketing\n",
       "104291      M  Marketing\n",
       "104292      F  Marketing\n",
       "104293      F  Marketing\n",
       "104294      F  Marketing\n",
       "...       ...        ...\n",
       "240119      F      Sales\n",
       "240120      M      Sales\n",
       "240121      M      Sales\n",
       "240122      F      Sales\n",
       "240123      F      Sales\n",
       "\n",
       "[52543 rows x 2 columns]"
      ]
     },
     "execution_count": 35,
     "metadata": {},
     "output_type": "execute_result"
    }
   ],
   "source": [
    "gender_dept"
   ]
  },
  {
   "cell_type": "code",
   "execution_count": 36,
   "metadata": {},
   "outputs": [],
   "source": [
    "observed = pd.crosstab(gender_dept.dept_name, gender_dept.gender)"
   ]
  },
  {
   "cell_type": "code",
   "execution_count": 37,
   "metadata": {},
   "outputs": [
    {
     "data": {
      "text/html": [
       "<div>\n",
       "<style scoped>\n",
       "    .dataframe tbody tr th:only-of-type {\n",
       "        vertical-align: middle;\n",
       "    }\n",
       "\n",
       "    .dataframe tbody tr th {\n",
       "        vertical-align: top;\n",
       "    }\n",
       "\n",
       "    .dataframe thead th {\n",
       "        text-align: right;\n",
       "    }\n",
       "</style>\n",
       "<table border=\"1\" class=\"dataframe\">\n",
       "  <thead>\n",
       "    <tr style=\"text-align: right;\">\n",
       "      <th>gender</th>\n",
       "      <th>F</th>\n",
       "      <th>M</th>\n",
       "    </tr>\n",
       "    <tr>\n",
       "      <th>dept_name</th>\n",
       "      <th></th>\n",
       "      <th></th>\n",
       "    </tr>\n",
       "  </thead>\n",
       "  <tbody>\n",
       "    <tr>\n",
       "      <th>Marketing</th>\n",
       "      <td>5864</td>\n",
       "      <td>8978</td>\n",
       "    </tr>\n",
       "    <tr>\n",
       "      <th>Sales</th>\n",
       "      <td>14999</td>\n",
       "      <td>22702</td>\n",
       "    </tr>\n",
       "  </tbody>\n",
       "</table>\n",
       "</div>"
      ],
      "text/plain": [
       "gender         F      M\n",
       "dept_name              \n",
       "Marketing   5864   8978\n",
       "Sales      14999  22702"
      ]
     },
     "execution_count": 37,
     "metadata": {},
     "output_type": "execute_result"
    }
   ],
   "source": [
    "observed"
   ]
  },
  {
   "cell_type": "code",
   "execution_count": 38,
   "metadata": {},
   "outputs": [],
   "source": [
    "# H0: Gender is independent of status in sales vs marketing departments"
   ]
  },
  {
   "cell_type": "code",
   "execution_count": 39,
   "metadata": {},
   "outputs": [],
   "source": [
    "chi2, p, degf, expected = stats.chi2_contingency(observed)"
   ]
  },
  {
   "cell_type": "code",
   "execution_count": 40,
   "metadata": {},
   "outputs": [
    {
     "name": "stdout",
     "output_type": "stream",
     "text": [
      "Observed:\n",
      "\n",
      "gender         F      M\n",
      "dept_name              \n",
      "Marketing   5864   8978\n",
      "Sales      14999  22702\n",
      "~~~~~~~~~~~~~~~~~~~~~~\n",
      "Expected: \n",
      "\n",
      "gender                F             M\n",
      "dept_name                            \n",
      "Marketing   5893.242601   8948.757399\n",
      "Sales      14969.757399  22731.242601\n",
      "~~~~~~~~~~~~~~~~~~~~~~\n",
      "chi^2 value: 0.3240\n",
      "p value: 0.56919386\n",
      "degrees of freedom: 1\n",
      "We cannot reject the null hypothesis\n"
     ]
    }
   ],
   "source": [
    "print('Observed:\\n')\n",
    "print(observed)\n",
    "print('~~~~~~~~~~~~~~~~~~~~~~')\n",
    "print('Expected: \\n')\n",
    "print(pd.DataFrame(expected, index=observed.index, columns=observed.columns))\n",
    "print('~~~~~~~~~~~~~~~~~~~~~~')\n",
    "print(f'chi^2 value: {chi2:.4f}')\n",
    "print(f'p value: {p:.8f}')\n",
    "print(f'degrees of freedom: {degf}')\n",
    "if p < alpha:\n",
    "    print('''Our p value is less than our alpha and we can reject the null hypothesis\n",
    "         We can suggest working in Sales compared to Marketing is not independent of employee gender''')\n",
    "else:\n",
    "    print('We cannot reject the null hypothesis')"
   ]
  },
  {
   "cell_type": "code",
   "execution_count": null,
   "metadata": {},
   "outputs": [],
   "source": []
  },
  {
   "cell_type": "code",
   "execution_count": null,
   "metadata": {},
   "outputs": [],
   "source": []
  },
  {
   "cell_type": "markdown",
   "metadata": {},
   "source": [
    "#### Is an employee's gender independent of whether or not they are or have been a manager?"
   ]
  },
  {
   "cell_type": "code",
   "execution_count": 41,
   "metadata": {},
   "outputs": [],
   "source": [
    "query = '''SELECT e.gender, dm.dept_no AS manager_status\n",
    "FROM employees e\n",
    "LEFT JOIN dept_manager dm ON dm.emp_no = e.emp_no'''"
   ]
  },
  {
   "cell_type": "code",
   "execution_count": 42,
   "metadata": {},
   "outputs": [],
   "source": [
    "gender_mngr = pd.read_sql(query, conn)"
   ]
  },
  {
   "cell_type": "code",
   "execution_count": 43,
   "metadata": {},
   "outputs": [
    {
     "data": {
      "text/html": [
       "<div>\n",
       "<style scoped>\n",
       "    .dataframe tbody tr th:only-of-type {\n",
       "        vertical-align: middle;\n",
       "    }\n",
       "\n",
       "    .dataframe tbody tr th {\n",
       "        vertical-align: top;\n",
       "    }\n",
       "\n",
       "    .dataframe thead th {\n",
       "        text-align: right;\n",
       "    }\n",
       "</style>\n",
       "<table border=\"1\" class=\"dataframe\">\n",
       "  <thead>\n",
       "    <tr style=\"text-align: right;\">\n",
       "      <th></th>\n",
       "      <th>gender</th>\n",
       "      <th>manager_status</th>\n",
       "    </tr>\n",
       "  </thead>\n",
       "  <tbody>\n",
       "    <tr>\n",
       "      <th>0</th>\n",
       "      <td>M</td>\n",
       "      <td>None</td>\n",
       "    </tr>\n",
       "    <tr>\n",
       "      <th>1</th>\n",
       "      <td>F</td>\n",
       "      <td>None</td>\n",
       "    </tr>\n",
       "    <tr>\n",
       "      <th>2</th>\n",
       "      <td>M</td>\n",
       "      <td>None</td>\n",
       "    </tr>\n",
       "    <tr>\n",
       "      <th>3</th>\n",
       "      <td>M</td>\n",
       "      <td>None</td>\n",
       "    </tr>\n",
       "    <tr>\n",
       "      <th>4</th>\n",
       "      <td>M</td>\n",
       "      <td>None</td>\n",
       "    </tr>\n",
       "  </tbody>\n",
       "</table>\n",
       "</div>"
      ],
      "text/plain": [
       "  gender manager_status\n",
       "0      M           None\n",
       "1      F           None\n",
       "2      M           None\n",
       "3      M           None\n",
       "4      M           None"
      ]
     },
     "execution_count": 43,
     "metadata": {},
     "output_type": "execute_result"
    }
   ],
   "source": [
    "gender_mngr.head()"
   ]
  },
  {
   "cell_type": "code",
   "execution_count": 45,
   "metadata": {},
   "outputs": [],
   "source": [
    "gender_mngr.fillna(0, inplace=True)"
   ]
  },
  {
   "cell_type": "code",
   "execution_count": 46,
   "metadata": {},
   "outputs": [],
   "source": [
    "gender_mngr['manager_status'] = gender_mngr.manager_status.apply(lambda x: x if x==0 else 1)"
   ]
  },
  {
   "cell_type": "code",
   "execution_count": 47,
   "metadata": {},
   "outputs": [
    {
     "data": {
      "text/plain": [
       "0    300000\n",
       "1        24\n",
       "Name: manager_status, dtype: int64"
      ]
     },
     "execution_count": 47,
     "metadata": {},
     "output_type": "execute_result"
    }
   ],
   "source": [
    "gender_mngr.manager_status.value_counts()"
   ]
  },
  {
   "cell_type": "code",
   "execution_count": 48,
   "metadata": {},
   "outputs": [],
   "source": [
    "observed = pd.crosstab(gender_mngr.gender, gender_mngr.manager_status)"
   ]
  },
  {
   "cell_type": "code",
   "execution_count": 49,
   "metadata": {},
   "outputs": [],
   "source": [
    "ch12, p, _, expected = stats.chi2_contingency(observed)"
   ]
  },
  {
   "cell_type": "code",
   "execution_count": 52,
   "metadata": {},
   "outputs": [
    {
     "name": "stdout",
     "output_type": "stream",
     "text": [
      "Observed:\n",
      "\n",
      "manager_status       0   1\n",
      "gender                    \n",
      "F               120038  13\n",
      "M               179962  11\n",
      "~~~~~~~~~~~~~~~~~~~~~~\n",
      "Expected: \n",
      "\n",
      "manager_status              0          1\n",
      "gender                                  \n",
      "F               120041.396688   9.603312\n",
      "M               179958.603312  14.396688\n",
      "~~~~~~~~~~~~~~~~~~~~~~\n",
      "chi^2 value: 1.4567\n",
      "p value: 0.22745819\n",
      "We cannot reject the null hypothesis\n"
     ]
    }
   ],
   "source": [
    "print('Observed:\\n')\n",
    "print(observed)\n",
    "print('~~~~~~~~~~~~~~~~~~~~~~')\n",
    "print('Expected: \\n')\n",
    "print(pd.DataFrame(expected, index=observed.index, columns=observed.columns))\n",
    "print('~~~~~~~~~~~~~~~~~~~~~~')\n",
    "print(f'chi^2 value: {ch12:.4f}')\n",
    "print(f'p value: {p:.8f}')\n",
    "if p < alpha:\n",
    "    print('''Our p value is less than our alpha and we can reject the null hypothesis\n",
    "         We can suggest gender of employee is not independent of history as a manager''')\n",
    "else:\n",
    "    print('We cannot reject the null hypothesis')"
   ]
  },
  {
   "cell_type": "code",
   "execution_count": null,
   "metadata": {},
   "outputs": [],
   "source": []
  }
 ],
 "metadata": {
  "kernelspec": {
   "display_name": "Python 3",
   "language": "python",
   "name": "python3"
  },
  "language_info": {
   "codemirror_mode": {
    "name": "ipython",
    "version": 3
   },
   "file_extension": ".py",
   "mimetype": "text/x-python",
   "name": "python",
   "nbconvert_exporter": "python",
   "pygments_lexer": "ipython3",
   "version": "3.8.2"
  }
 },
 "nbformat": 4,
 "nbformat_minor": 4
}
