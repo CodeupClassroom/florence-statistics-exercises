{
 "cells": [
  {
   "cell_type": "markdown",
   "metadata": {},
   "source": [
    "## Overview\n",
    "\n",
    "> Has the network latency gone up since we switched ISPs?\n",
    "\n",
    "- $H_0$: the network latency is the same since the ISP switch.\n",
    "- $H_a$: the new ISP has higher latency\n",
    "- True Positive: We reject $H_0$, our latency is ~ 300ms on average with the new ISP, it was ~50ms previously\n",
    "- False Positive: We reject $H_0$, our data says the latency is higher; maybe our data is biased, we took recordings between 6pm and 8pm when everyone is streaming media\n",
    "- False Negative: We fail to reject $H_0$: maybe we took recordings between 6am and 7am when no one is on the network\n",
    "- True Negative: Our data says there isn't much difference in latency and we fail to reject $H_0$\n",
    "\n",
    "> Is the website redesign any good?\n",
    "\n",
    "- $H_0$: the number of click throughs since the site redesign hasn't changed\n",
    "- $H_a$: there are more click throughs since the site redesign\n",
    "- TP: reject $H_0$, we conclude that the redesign helped, and it really did\n",
    "- FP: reject $H_0$, we conclude that the redesign helped, but really it didn't; maybe we only showed the new website to previously engaged customers\n",
    "- FN: fail to reject $H_0$, we conclude the redesign did not help, but really it did; maybe we only showed the new website to people who provided negative feedback\n",
    "- TN: fail to reject $H_0$, we conclude the redesign did not help, and it really didn't\n",
    "\n",
    "> Is our TV ad driving more sales?\n",
    "\n",
    "Scenario: We're frito-lay advertising cool ranch doritos.\n",
    "\n",
    "- $H_0$: Cool ranch doritos don't sell any better when we're running an advertisement\n",
    "- $H_a$: Sales for cool ranch doritos increase when we're running an ad\n",
    "- FP: reject $H_0$; we conclude that the advertisement helped sales, but really it didn't\n",
    "- FN: fail to reject $H_0$; we conclude that the ad did not help, but really it did\n",
    "- TP: reject $H_0$; we conclude that the ad helped, and it did\n",
    "- TN: fail to reject $H_0$: we conclude the ad did not boost sales, and really it didn't\n",
    "\n",
    "Scenario: suppose we have a production issue while the ad is running -- there's not enough product to sell, sales are low\n",
    "\n",
    "- FN: conclude that the ad didn't help, but really it did, we just didn't have enough inventory\n",
    "\n",
    "Scenario: suppose there's a global pandemic, and everyone is staying inside while the ad is running. There's increased sales of cool ranch doritos.\n",
    "\n",
    "- FP: conclude that the ad helped, when really it didn't, the increased sales are due to the global pandemic"
   ]
  },
  {
   "cell_type": "code",
   "execution_count": null,
   "metadata": {},
   "outputs": [],
   "source": []
  }
 ],
 "metadata": {
  "kernelspec": {
   "display_name": "Python 3",
   "language": "python",
   "name": "python3"
  },
  "language_info": {
   "codemirror_mode": {
    "name": "ipython",
    "version": 3
   },
   "file_extension": ".py",
   "mimetype": "text/x-python",
   "name": "python",
   "nbconvert_exporter": "python",
   "pygments_lexer": "ipython3",
   "version": "3.8.5"
  }
 },
 "nbformat": 4,
 "nbformat_minor": 4
}
