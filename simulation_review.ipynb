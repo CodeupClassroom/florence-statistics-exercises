{
 "cells": [
  {
   "cell_type": "code",
   "execution_count": 1,
   "metadata": {},
   "outputs": [],
   "source": [
    "# Let's do our imports:\n",
    "# matplotlib inline for notebook visualization display\n",
    "%matplotlib inline\n",
    "# numpy for matrix manipulation\n",
    "import numpy as np\n",
    "# pandas for dataframe manipulation\n",
    "import pandas as pd\n",
    "# curriculum example visualizations\n",
    "import viz \n",
    "# and setting our random seed\n",
    "np.random.seed(1349)"
   ]
  },
  {
   "cell_type": "markdown",
   "metadata": {},
   "source": [
    "### Question #1:\n",
    "## How likely is it that you roll doubles when rolling two dice?"
   ]
  },
  {
   "cell_type": "markdown",
   "metadata": {},
   "source": [
    "Mentally visualize the situation:\n",
    "\n",
    "Two dice, each have six sides.\n",
    "\n",
    "The probability is evenly distributed amongst six sides for each die\n",
    "\n",
    "In this way, you have an equal probability of getting any of the six sides of each die on a given roll.\n",
    "Therefore, rolling on a specific number is a 1/6 probability.\n",
    "\n",
    "There are 36 possible outcomes of dice rolls (6x6)\n",
    "\n",
    "And there are 6 possible ways to get doubles (11,22,33,44,55,66)\n",
    "\n",
    "6/36 = 1/6\n",
    "\n",
    "making for a probability of roughly 0.167"
   ]
  },
  {
   "cell_type": "markdown",
   "metadata": {},
   "source": [
    "<img src=\"http://www.stayorswitch.com/blog/wp-content/uploads/2014/06/Screen-Shot-2016-10-27-at-11.39.17-PM.png\">"
   ]
  },
  {
   "cell_type": "code",
   "execution_count": 2,
   "metadata": {},
   "outputs": [],
   "source": [
    "# Let's do it with a simulation in Python:\n",
    "\n",
    "# Represent our data's possible outcomes:\n",
    "outcomes = [1,2,3,4,5,6]\n",
    "# Create the data!\n",
    "n_rows = 1_000_000\n",
    "n_cols = 2"
   ]
  },
  {
   "cell_type": "code",
   "execution_count": 3,
   "metadata": {},
   "outputs": [],
   "source": [
    "# Let's get our rolls. We'll make a simulation of 1 million trials or simulated rolls for two dice\n",
    "rolls = np.random.choice(outcomes, size=(n_rows, n_cols))"
   ]
  },
  {
   "cell_type": "code",
   "execution_count": 4,
   "metadata": {},
   "outputs": [
    {
     "data": {
      "text/plain": [
       "array([[3, 2],\n",
       "       [5, 3],\n",
       "       [4, 4],\n",
       "       [6, 2],\n",
       "       [1, 1]])"
      ]
     },
     "execution_count": 4,
     "metadata": {},
     "output_type": "execute_result"
    }
   ],
   "source": [
    "rolls[:5]"
   ]
  },
  {
   "cell_type": "code",
   "execution_count": 5,
   "metadata": {},
   "outputs": [
    {
     "data": {
      "text/plain": [
       "(1000000, 2)"
      ]
     },
     "execution_count": 5,
     "metadata": {},
     "output_type": "execute_result"
    }
   ],
   "source": [
    "rolls.shape"
   ]
  },
  {
   "cell_type": "code",
   "execution_count": null,
   "metadata": {},
   "outputs": [],
   "source": []
  },
  {
   "cell_type": "markdown",
   "metadata": {},
   "source": [
    "Using a sum isn't the best option here, since we are looking for two matching elements, or the number of unique elements."
   ]
  },
  {
   "cell_type": "code",
   "execution_count": 8,
   "metadata": {},
   "outputs": [
    {
     "data": {
      "text/plain": [
       "1"
      ]
     },
     "execution_count": 8,
     "metadata": {},
     "output_type": "execute_result"
    }
   ],
   "source": [
    "len(np.unique(rolls[4]))"
   ]
  },
  {
   "cell_type": "code",
   "execution_count": null,
   "metadata": {},
   "outputs": [],
   "source": []
  },
  {
   "cell_type": "code",
   "execution_count": 16,
   "metadata": {},
   "outputs": [],
   "source": [
    "# Let's use a list comprehension: \n",
    "# a list of the length of the uniques for each instance for the full number of simulations by index,\n",
    "# but only if the number of uniques is 1\n",
    "dubs = [len(np.unique(rolls[n])) for n in range(0, n_rows-1) if len(np.unique(rolls[n])) ==1]"
   ]
  },
  {
   "cell_type": "code",
   "execution_count": 17,
   "metadata": {},
   "outputs": [
    {
     "data": {
      "text/plain": [
       "166136"
      ]
     },
     "execution_count": 17,
     "metadata": {},
     "output_type": "execute_result"
    }
   ],
   "source": [
    "len(dubs)"
   ]
  },
  {
   "cell_type": "code",
   "execution_count": 18,
   "metadata": {},
   "outputs": [],
   "source": [
    "# The length of this is going to be the number of times we rolled doubles, and we can divide that by the total number of simulations:\n",
    "calculated_prob = len(dubs) / len(rolls)"
   ]
  },
  {
   "cell_type": "code",
   "execution_count": 19,
   "metadata": {},
   "outputs": [
    {
     "data": {
      "text/plain": [
       "0.166136"
      ]
     },
     "execution_count": 19,
     "metadata": {},
     "output_type": "execute_result"
    }
   ],
   "source": [
    "calculated_prob"
   ]
  },
  {
   "cell_type": "code",
   "execution_count": 11,
   "metadata": {},
   "outputs": [
    {
     "name": "stdout",
     "output_type": "stream",
     "text": [
      "The probability that we will flip at least 3 heads over 2 coins is 1.0\n"
     ]
    }
   ],
   "source": [
    "\n",
    "print(f'The probability that we will flip at least 3 heads over {n_cols} coins is {calculated_prob}')"
   ]
  },
  {
   "cell_type": "markdown",
   "metadata": {},
   "source": [
    "### Question #2:\n",
    "### If you flip 8 coins, what is the probability of getting exactly 3 heads? What is the probability of getting more than 3 heads?"
   ]
  },
  {
   "cell_type": "markdown",
   "metadata": {},
   "source": [
    "Mentally visualize the situation:\n",
    "Eight coins, each have two sides.\n",
    "The probability on a \"fair\" coin is distributed evenly among the two sides on a given flip\n",
    "The probability of getting H or T is equal, 1/2\n",
    "Order does not matter here; it does not matter *when* the heads come up in the mix\n",
    "Situation = {3H, 5T}"
   ]
  },
  {
   "cell_type": "markdown",
   "metadata": {},
   "source": [
    "<img src=\"https://i.ytimg.com/vi/qyd1bQlPW-8/hqdefault.jpg\">"
   ]
  },
  {
   "cell_type": "code",
   "execution_count": null,
   "metadata": {},
   "outputs": [],
   "source": [
    "# number of ways that we could get three heads out of eight flips, \n",
    "# divided by number of possible flip outcomes of eight flips (2 * 2 * 2 * 2 * 2 * 2 * 2 * 2)"
   ]
  },
  {
   "cell_type": "code",
   "execution_count": null,
   "metadata": {},
   "outputs": [],
   "source": [
    "# 8C3/(2^8) = (8!/3!(8-3)!)/2^8 = 7/32 = ~0.219"
   ]
  },
  {
   "cell_type": "code",
   "execution_count": null,
   "metadata": {},
   "outputs": [],
   "source": [
    "# Does that look a little confusing? Let's do it with a simulation in Python!"
   ]
  },
  {
   "cell_type": "code",
   "execution_count": 20,
   "metadata": {},
   "outputs": [],
   "source": [
    "# Let's make a million simulated flips of 8 trials, or independent coins.\n",
    "n_rows = 1_000_000\n",
    "n_cols = 8\n",
    "heads = 1\n",
    "tails = 0\n",
    "flips = np.random.choice([heads, tails], size=(n_rows, n_cols))"
   ]
  },
  {
   "cell_type": "code",
   "execution_count": 21,
   "metadata": {},
   "outputs": [
    {
     "data": {
      "text/plain": [
       "array([[1, 0, 0, ..., 1, 1, 1],\n",
       "       [1, 1, 1, ..., 1, 0, 1],\n",
       "       [0, 0, 0, ..., 1, 0, 1],\n",
       "       ...,\n",
       "       [0, 0, 0, ..., 0, 1, 0],\n",
       "       [1, 1, 0, ..., 1, 0, 1],\n",
       "       [1, 1, 0, ..., 0, 1, 0]])"
      ]
     },
     "execution_count": 21,
     "metadata": {},
     "output_type": "execute_result"
    }
   ],
   "source": [
    "flips"
   ]
  },
  {
   "cell_type": "code",
   "execution_count": 23,
   "metadata": {},
   "outputs": [],
   "source": [
    "# Since we assigned heads as a value of 1, the sum of any given row of 8 trials will be 3 if there were three heads!\n",
    "numheads = flips.sum(axis=1)"
   ]
  },
  {
   "cell_type": "code",
   "execution_count": 25,
   "metadata": {},
   "outputs": [
    {
     "name": "stdout",
     "output_type": "stream",
     "text": [
      "The probability that we will flip exactly 3 heads over 8 coins is 0.218409\n"
     ]
    }
   ],
   "source": [
    "calculated_prob = (numheads == 3).mean()\n",
    "\n",
    "# And if we take the average number of times where that sum equaled 3:\n",
    "print(f'The probability that we will flip exactly 3 heads over {n_cols} coins is {calculated_prob}')"
   ]
  },
  {
   "cell_type": "code",
   "execution_count": null,
   "metadata": {},
   "outputs": [],
   "source": [
    "# Ta Da! We did the thing! Congratulations!! We subverted math with programming! Computer!"
   ]
  },
  {
   "cell_type": "markdown",
   "metadata": {},
   "source": [
    "#### And for the second part? If the sum is equal or over to 3, we know that we rolled at least 3 heads, so:"
   ]
  },
  {
   "cell_type": "code",
   "execution_count": 26,
   "metadata": {},
   "outputs": [
    {
     "name": "stdout",
     "output_type": "stream",
     "text": [
      "The probability that we will flip at least 3 heads over 8 coins is 0.856079\n"
     ]
    }
   ],
   "source": [
    "calculated_prob = (numheads >= 3).mean()\n",
    "print(f'The probability that we will flip at least 3 heads over {n_cols} coins is {calculated_prob}')"
   ]
  },
  {
   "cell_type": "markdown",
   "metadata": {},
   "source": [
    "### Question #3:\n",
    "## There are approximitely 3 web development cohorts for every 1 data science cohort at Codeup. Assuming that Codeup randomly selects an alumni to put on a billboard, what are the odds that the two billboards I drive past both have data science students on them?\n",
    "#### Mentally visualize the situation:\n",
    "3 Web Dev cohorts for every 1 Data Science cohort, which is a ratio of 3:1,\n",
    "\n",
    "or think of it this way:\n",
    "\n",
    "each sign is a biased coin flip, where we know we have a 1 out of 4 chance of getting a data science student"
   ]
  },
  {
   "cell_type": "code",
   "execution_count": 27,
   "metadata": {},
   "outputs": [
    {
     "data": {
      "text/plain": [
       "0.0625"
      ]
     },
     "execution_count": 27,
     "metadata": {},
     "output_type": "execute_result"
    }
   ],
   "source": [
    "# theoretical probability:\n",
    "(1/4) * (1/4)"
   ]
  },
  {
   "cell_type": "code",
   "execution_count": 28,
   "metadata": {},
   "outputs": [],
   "source": [
    "n_rows = 1_000_000\n",
    "n_cols = 2\n",
    "prob_ds = 0.25"
   ]
  },
  {
   "cell_type": "code",
   "execution_count": 29,
   "metadata": {},
   "outputs": [],
   "source": [
    "data = np.random.random((n_rows, n_cols))"
   ]
  },
  {
   "cell_type": "code",
   "execution_count": null,
   "metadata": {},
   "outputs": [],
   "source": []
  },
  {
   "cell_type": "code",
   "execution_count": 32,
   "metadata": {},
   "outputs": [
    {
     "data": {
      "text/plain": [
       "0.062592"
      ]
     },
     "execution_count": 32,
     "metadata": {},
     "output_type": "execute_result"
    }
   ],
   "source": [
    "((data < prob_ds).sum(axis=1) == 2).mean()"
   ]
  },
  {
   "cell_type": "markdown",
   "metadata": {},
   "source": [
    "## Question 4:\n",
    "###  Codeup students buy, on average, 3 poptart packages (+- 1.5) a day from the snack vending machine. If on monday the machine is restocked with 17 poptart packages, how likely is it that I will be able to buy some poptarts on Friday afternoon?"
   ]
  },
  {
   "cell_type": "code",
   "execution_count": 34,
   "metadata": {},
   "outputs": [],
   "source": [
    "# average number of poptarts consumed:\n",
    "\n",
    "pop_avg = 3\n",
    "\n",
    "# deviation of potars: 1.5\n",
    "\n",
    "pop_std = 1.5\n",
    "n_cols = 5\n",
    "n_rows = 1_000_000\n",
    "simulated_consumed_potars = np.random.normal(pop_avg, pop_std, size=(n_rows, n_cols))"
   ]
  },
  {
   "cell_type": "code",
   "execution_count": 35,
   "metadata": {},
   "outputs": [
    {
     "data": {
      "text/plain": [
       "array([[ 2.08937582,  0.57041803,  2.1655974 ,  5.36198635,  1.85548684],\n",
       "       [ 1.87487985,  4.33936208,  3.65843688,  1.17990199,  2.64849652],\n",
       "       [ 2.82825378,  4.23193019,  3.33124924, -0.10144635,  3.30713518],\n",
       "       ...,\n",
       "       [ 3.40889516, -0.00598547,  2.46620979,  2.54324558,  2.32343313],\n",
       "       [ 1.90065327,  4.27512477,  3.0115505 ,  5.29584011,  3.72412469],\n",
       "       [ 3.06469503,  5.27239628,  5.21644994,  2.54622125,  1.23641873]])"
      ]
     },
     "execution_count": 35,
     "metadata": {},
     "output_type": "execute_result"
    }
   ],
   "source": [
    "simulated_consumed_potars"
   ]
  },
  {
   "cell_type": "code",
   "execution_count": 37,
   "metadata": {},
   "outputs": [
    {
     "data": {
      "text/plain": [
       "array([12.04286444, 13.70107733, 13.59712203, ..., 10.73579819,\n",
       "       18.20729333, 17.33618123])"
      ]
     },
     "execution_count": 37,
     "metadata": {},
     "output_type": "execute_result"
    }
   ],
   "source": [
    "simulated_consumed_potars.sum(axis=1)"
   ]
  },
  {
   "cell_type": "code",
   "execution_count": 38,
   "metadata": {},
   "outputs": [
    {
     "name": "stdout",
     "output_type": "stream",
     "text": [
      "The probability that there will still be poptarts in the vending machine after 5 days is 0.617463\n"
     ]
    }
   ],
   "source": [
    "calculated_prob = (simulated_consumed_potars.sum(axis=1) <= 16).mean()\n",
    "print(f'The probability that there will still be poptarts in the vending machine after {n_cols} days is {calculated_prob}')"
   ]
  },
  {
   "cell_type": "markdown",
   "metadata": {},
   "source": [
    "## Question 5:\n",
    "\n",
    "### Compare Heights: \n",
    " - Men have an average height of 178 cm and standard deviation of 8cm. \n",
    "\n",
    " - Women have a mean of 170, sd = 6cm. \n",
    "\n",
    "If a man and woman are chosen at random, P(woman taller than man)?"
   ]
  },
  {
   "cell_type": "code",
   "execution_count": 40,
   "metadata": {},
   "outputs": [],
   "source": [
    "men_avg = 178\n",
    "men_std = 8\n",
    "wmn_avg = 170\n",
    "wmn_std = 6"
   ]
  },
  {
   "cell_type": "code",
   "execution_count": 41,
   "metadata": {},
   "outputs": [],
   "source": [
    "# Since we have an average and a standard deviation, let's use np.random.normal"
   ]
  },
  {
   "cell_type": "code",
   "execution_count": 42,
   "metadata": {},
   "outputs": [],
   "source": [
    "s_men = np.random.normal(men_avg, men_std, 1_000_000)"
   ]
  },
  {
   "cell_type": "code",
   "execution_count": 45,
   "metadata": {},
   "outputs": [
    {
     "data": {
      "text/plain": [
       "array([169.06372258, 175.13212603, 178.98027681, 175.70583194,\n",
       "       185.37511168])"
      ]
     },
     "execution_count": 45,
     "metadata": {},
     "output_type": "execute_result"
    }
   ],
   "source": [
    "s_men[:5]"
   ]
  },
  {
   "cell_type": "code",
   "execution_count": null,
   "metadata": {},
   "outputs": [],
   "source": []
  },
  {
   "cell_type": "code",
   "execution_count": null,
   "metadata": {},
   "outputs": [],
   "source": []
  },
  {
   "cell_type": "code",
   "execution_count": 46,
   "metadata": {},
   "outputs": [],
   "source": [
    "s_wmn = np.random.normal(wmn_avg, wmn_std, 1_000_000)"
   ]
  },
  {
   "cell_type": "code",
   "execution_count": 47,
   "metadata": {},
   "outputs": [
    {
     "data": {
      "text/plain": [
       "array([ True, False, False, ..., False, False, False])"
      ]
     },
     "execution_count": 47,
     "metadata": {},
     "output_type": "execute_result"
    }
   ],
   "source": []
  },
  {
   "cell_type": "code",
   "execution_count": 48,
   "metadata": {},
   "outputs": [
    {
     "name": "stdout",
     "output_type": "stream",
     "text": [
      "The probability that we will have a woman taller than a man presuming a normal distribution is 0.211925\n"
     ]
    }
   ],
   "source": [
    "calculated_prob = (s_wmn > s_men).mean()\n",
    "print(f'The probability that we will have a woman taller than a man presuming a normal distribution is {calculated_prob}')"
   ]
  },
  {
   "cell_type": "markdown",
   "metadata": {},
   "source": [
    "## Question 6:\n",
    "\n",
    "### When installing anaconda on a student's computer, there's a 1 in 250 chance that the download is corrupted and the installation fails. What are the odds that after having 50 students download anaconda, no one has an installation issue? 100 students?\n",
    "\n",
    "### What is the probability that we observe an installation issue within the first 150 students that download anaconda?\n",
    "\n",
    "### How likely is it that 450 students all download anaconda without an issue?"
   ]
  },
  {
   "cell_type": "code",
   "execution_count": 49,
   "metadata": {},
   "outputs": [],
   "source": [
    "nrows = 1_000_000\n",
    "\n",
    "# n_cols in this case is going to be the number of students installing Anaconda.\n",
    "\n",
    "n_cols = 50\n",
    "conda_failure = 1\n",
    "great_success = 0\n",
    "prob_failure = (1/250)"
   ]
  },
  {
   "cell_type": "code",
   "execution_count": 50,
   "metadata": {},
   "outputs": [
    {
     "data": {
      "text/plain": [
       "0.004"
      ]
     },
     "execution_count": 50,
     "metadata": {},
     "output_type": "execute_result"
    }
   ],
   "source": [
    "prob_failure"
   ]
  },
  {
   "cell_type": "code",
   "execution_count": 51,
   "metadata": {},
   "outputs": [],
   "source": [
    "installs = np.random.random((nrows, n_cols))"
   ]
  },
  {
   "cell_type": "code",
   "execution_count": 53,
   "metadata": {},
   "outputs": [
    {
     "data": {
      "text/plain": [
       "0.818334"
      ]
     },
     "execution_count": 53,
     "metadata": {},
     "output_type": "execute_result"
    }
   ],
   "source": [
    "((installs < prob_failure).sum(axis=1) == 0).mean()"
   ]
  },
  {
   "cell_type": "code",
   "execution_count": 54,
   "metadata": {},
   "outputs": [],
   "source": [
    "nrows = 1_000_000\n",
    "\n",
    "# n_cols in this case is going to be the number of students installing Anaconda.\n",
    "\n",
    "n_cols = 100\n",
    "conda_failure = 1\n",
    "great_success = 0\n",
    "prob_failure = (1/250)"
   ]
  },
  {
   "cell_type": "code",
   "execution_count": 55,
   "metadata": {},
   "outputs": [
    {
     "data": {
      "text/plain": [
       "0.004"
      ]
     },
     "execution_count": 55,
     "metadata": {},
     "output_type": "execute_result"
    }
   ],
   "source": [
    "prob_failure"
   ]
  },
  {
   "cell_type": "code",
   "execution_count": 56,
   "metadata": {},
   "outputs": [],
   "source": [
    "installs = np.random.random((nrows, n_cols))"
   ]
  },
  {
   "cell_type": "code",
   "execution_count": 57,
   "metadata": {},
   "outputs": [
    {
     "data": {
      "text/plain": [
       "0.670379"
      ]
     },
     "execution_count": 57,
     "metadata": {},
     "output_type": "execute_result"
    }
   ],
   "source": [
    "((installs < prob_failure).sum(axis=1) == 0).mean()"
   ]
  },
  {
   "cell_type": "code",
   "execution_count": 62,
   "metadata": {},
   "outputs": [],
   "source": [
    "nrows = 1_000_000\n",
    "\n",
    "# n_cols in this case is going to be the number of students installing Anaconda.\n",
    "\n",
    "n_cols = 450\n",
    "conda_failure = 1\n",
    "great_success = 0\n",
    "prob_failure = (1/250)"
   ]
  },
  {
   "cell_type": "code",
   "execution_count": 63,
   "metadata": {},
   "outputs": [
    {
     "data": {
      "text/plain": [
       "0.004"
      ]
     },
     "execution_count": 63,
     "metadata": {},
     "output_type": "execute_result"
    }
   ],
   "source": [
    "prob_failure"
   ]
  },
  {
   "cell_type": "code",
   "execution_count": 64,
   "metadata": {},
   "outputs": [],
   "source": [
    "installs = np.random.random((nrows, n_cols))"
   ]
  },
  {
   "cell_type": "code",
   "execution_count": 66,
   "metadata": {},
   "outputs": [
    {
     "data": {
      "text/plain": [
       "0.16446"
      ]
     },
     "execution_count": 66,
     "metadata": {},
     "output_type": "execute_result"
    }
   ],
   "source": [
    "((installs < prob_failure).sum(axis=1) == 0).mean()"
   ]
  },
  {
   "cell_type": "code",
   "execution_count": 58,
   "metadata": {},
   "outputs": [],
   "source": [
    "nrows = 1_000_000\n",
    "\n",
    "# n_cols in this case is going to be the number of students installing Anaconda.\n",
    "\n",
    "n_cols = 150\n",
    "conda_failure = 1\n",
    "great_success = 0\n",
    "prob_failure = (1/250)"
   ]
  },
  {
   "cell_type": "code",
   "execution_count": 59,
   "metadata": {},
   "outputs": [
    {
     "data": {
      "text/plain": [
       "0.004"
      ]
     },
     "execution_count": 59,
     "metadata": {},
     "output_type": "execute_result"
    }
   ],
   "source": [
    "prob_failure"
   ]
  },
  {
   "cell_type": "code",
   "execution_count": 60,
   "metadata": {},
   "outputs": [],
   "source": [
    "installs = np.random.random((nrows, n_cols))"
   ]
  },
  {
   "cell_type": "code",
   "execution_count": 61,
   "metadata": {},
   "outputs": [
    {
     "data": {
      "text/plain": [
       "0.451436"
      ]
     },
     "execution_count": 61,
     "metadata": {},
     "output_type": "execute_result"
    }
   ],
   "source": [
    "((installs < prob_failure).sum(axis=1) > 0).mean()"
   ]
  },
  {
   "cell_type": "code",
   "execution_count": null,
   "metadata": {},
   "outputs": [],
   "source": [
    "# The one in 250 is going to come up with our probability bias for the two outcomes.  \n",
    "# 1/250 = 0.004 probability that we will have an anaconda failure.\n",
    "\n"
   ]
  },
  {
   "cell_type": "code",
   "execution_count": null,
   "metadata": {},
   "outputs": [],
   "source": [
    "calculated_prob = \n",
    "print(f'The probability that we will have one or more failure over {n_cols} is {calculated_prob}')"
   ]
  },
  {
   "cell_type": "markdown",
   "metadata": {},
   "source": [
    "## Question 7:\n",
    "### There's a 70% chance on any given day that there will be at least one food truck at Travis Park. However, you haven't seen a food truck there in 3 days. How unlikely is this?\n",
    "\n",
    "### How likely is it that a food truck will show up sometime this week?"
   ]
  },
  {
   "cell_type": "code",
   "execution_count": null,
   "metadata": {},
   "outputs": [],
   "source": [
    "# You havent been to Travis Park in like a year because we're in the middle of a pancetta and you're \n",
    "# attending codeup from inside your home, so its 0% likely, congratulations."
   ]
  },
  {
   "cell_type": "code",
   "execution_count": null,
   "metadata": {},
   "outputs": [],
   "source": [
    "# Let's pretend its regular times for the sake of doing some statistics, though.\n",
    "# We are still looking at these like independent events, so:\n",
    "# There either will be or will not be a food truck, with a probability of 0.7 in favor of there being a food truck.\n",
    "# 3 days of the week have passed, with two more left, assuming a regular business week."
   ]
  },
  {
   "cell_type": "code",
   "execution_count": 67,
   "metadata": {},
   "outputs": [],
   "source": [
    "n_rows = 1_000_000\n",
    "n_cols = 3\n",
    "food_truck = 1\n",
    "no_truck = 0\n",
    "truck_prob = 0.7"
   ]
  },
  {
   "cell_type": "code",
   "execution_count": 68,
   "metadata": {},
   "outputs": [],
   "source": [
    "data = np.random.random((n_rows, n_cols))"
   ]
  },
  {
   "cell_type": "code",
   "execution_count": 69,
   "metadata": {},
   "outputs": [],
   "source": [
    "truck_prob = 0.7"
   ]
  },
  {
   "cell_type": "code",
   "execution_count": 70,
   "metadata": {},
   "outputs": [
    {
     "data": {
      "text/plain": [
       "0.026799"
      ]
     },
     "execution_count": 70,
     "metadata": {},
     "output_type": "execute_result"
    }
   ],
   "source": [
    "((data < truck_prob).sum(axis=1) == 0).mean()"
   ]
  },
  {
   "cell_type": "code",
   "execution_count": 71,
   "metadata": {},
   "outputs": [
    {
     "name": "stdout",
     "output_type": "stream",
     "text": [
      "The probability that we will not have seen a food truck over the course of 3 days is 0.026799\n"
     ]
    }
   ],
   "source": [
    "calculated_prob = ((data < truck_prob).sum(axis=1) == 0).mean()\n",
    "print(f'The probability that we will not have seen a food truck over the course of {n_cols} days is {calculated_prob}')"
   ]
  },
  {
   "cell_type": "code",
   "execution_count": null,
   "metadata": {},
   "outputs": [],
   "source": [
    "# The presence of a food truck is not dependent on whether or not one showed up on the previous day, \n",
    "# its independent.  Let's see what its like for the last two days"
   ]
  },
  {
   "cell_type": "code",
   "execution_count": 104,
   "metadata": {},
   "outputs": [],
   "source": [
    "n_rows = 1_000_000\n",
    "n_cols = 2\n",
    "food_truck = 1\n",
    "no_truck = 0\n",
    "truck_prob = 0.7"
   ]
  },
  {
   "cell_type": "code",
   "execution_count": 105,
   "metadata": {},
   "outputs": [],
   "source": [
    "lunch_days = np.random.random((n_rows, n_cols))"
   ]
  },
  {
   "cell_type": "code",
   "execution_count": 108,
   "metadata": {},
   "outputs": [],
   "source": [
    "calculated_prob = ((lunch_days < truck_prob).sum(axis=1) > 0).mean() "
   ]
  },
  {
   "cell_type": "code",
   "execution_count": 109,
   "metadata": {},
   "outputs": [
    {
     "name": "stdout",
     "output_type": "stream",
     "text": [
      "The probability that we have seen a food truck over the course of 2 days is 0.909307\n"
     ]
    }
   ],
   "source": [
    "print(f'The probability that we have seen a food truck over the course of {n_cols} days is {calculated_prob}')"
   ]
  },
  {
   "cell_type": "markdown",
   "metadata": {},
   "source": [
    "## Question 8:\n",
    "### If 23 people are in the same room, what are the odds that two of them share a birthday? What if it's 20 people? 40?"
   ]
  },
  {
   "cell_type": "code",
   "execution_count": null,
   "metadata": {},
   "outputs": [],
   "source": [
    "# 365 days in a year (typically)\n",
    "# 23 people in the room\n",
    "# we want an instance where both are the same number!\n",
    "\n",
    "# Hey, this is exactly the same as our first problem with a few extra steps!"
   ]
  },
  {
   "cell_type": "code",
   "execution_count": 77,
   "metadata": {},
   "outputs": [],
   "source": [
    "# Represent our data's possible outcomes, the number of days in a year\n",
    "# People born on leap days don't actually exist, so we are going to exclude them here:\n",
    "\n",
    "outcomes = range(0, 365)\n",
    "# Create the data!\n",
    "n_trials = 23\n",
    "n_simulations = 1_000_000 "
   ]
  },
  {
   "cell_type": "code",
   "execution_count": 78,
   "metadata": {},
   "outputs": [],
   "source": [
    "# Let's get our simulations. We'll make a simulation of 1 million classrooms of 23 students.\n",
    "#\n",
    "# outcomes: possible unique days of the year that a person could have.\n",
    "# n_simulations: the number of simulated classroom trials\n",
    "# n_trials: the number of student birthdays\n",
    "#"
   ]
  },
  {
   "cell_type": "code",
   "execution_count": 79,
   "metadata": {},
   "outputs": [],
   "source": [
    "classrooms = np.random.choice(outcomes, size=(n_simulations, n_trials))"
   ]
  },
  {
   "cell_type": "markdown",
   "metadata": {},
   "source": [
    "##### Great, so we can say that when len(np.unique()) == 22 or less, we have a situation of doubles)\n",
    "\n",
    "#### Let's make a list of every instance where this is the case in our array of simulated classes:"
   ]
  },
  {
   "cell_type": "code",
   "execution_count": null,
   "metadata": {},
   "outputs": [],
   "source": [
    "# Let's use a list comprehension: \n",
    "# a list of the length of the uniques for each instance for the full number of simulations by index, \n",
    "# but only if the number of uniques is less than the number of students in the class"
   ]
  },
  {
   "cell_type": "code",
   "execution_count": 86,
   "metadata": {},
   "outputs": [],
   "source": [
    "list_of_twin_bdays = [len(np.unique(classrooms[n])) for n in range(0, n_simulations-1) if len(np.unique(classrooms[n])) < 23]"
   ]
  },
  {
   "cell_type": "markdown",
   "metadata": {},
   "source": [
    "#### The length of this is going to be the number of times we had a class with shared birthdays, and we can divide that by the total number of simulations:"
   ]
  },
  {
   "cell_type": "code",
   "execution_count": 87,
   "metadata": {},
   "outputs": [
    {
     "name": "stdout",
     "output_type": "stream",
     "text": [
      "The probability that we will have one or more shared birthdays over 23 students is 0.507283\n"
     ]
    }
   ],
   "source": [
    "prop_twinsies = len(list_of_twin_bdays) / n_simulations\n",
    "print(f'The probability that we will have one or more shared birthdays over {n_trials} students is {prop_twinsies}')"
   ]
  },
  {
   "cell_type": "markdown",
   "metadata": {},
   "source": [
    "### 20?"
   ]
  },
  {
   "cell_type": "code",
   "execution_count": 88,
   "metadata": {},
   "outputs": [],
   "source": [
    "# Represent our data's possible outcomes, the number of days in a year\n",
    "# People born on leap days don't actually exist, so we are going to exclude them here:\n",
    "\n",
    "outcomes = range(0, 365)\n",
    "# Create the data!\n",
    "n_trials = 20\n",
    "n_simulations = 1_000_000 "
   ]
  },
  {
   "cell_type": "code",
   "execution_count": 89,
   "metadata": {},
   "outputs": [],
   "source": [
    "# Let's get our simulations. We'll make a simulation of 1 million classrooms of 23 students.\n",
    "#\n",
    "# outcomes: possible unique days of the year that a person could have.\n",
    "# n_simulations: the number of simulated classroom trials\n",
    "# n_trials: the number of student birthdays\n",
    "#"
   ]
  },
  {
   "cell_type": "code",
   "execution_count": 90,
   "metadata": {},
   "outputs": [],
   "source": [
    "classrooms = np.random.choice(outcomes, size=(n_simulations, n_trials))"
   ]
  },
  {
   "cell_type": "markdown",
   "metadata": {},
   "source": [
    "##### Great, so we can say that when len(np.unique()) == 22 or less, we have a situation of doubles)\n",
    "\n",
    "#### Let's make a list of every instance where this is the case in our array of simulated classes:"
   ]
  },
  {
   "cell_type": "code",
   "execution_count": 91,
   "metadata": {},
   "outputs": [],
   "source": [
    "# Let's use a list comprehension: \n",
    "# a list of the length of the uniques for each instance for the full number of simulations by index, \n",
    "# but only if the number of uniques is less than the number of students in the class"
   ]
  },
  {
   "cell_type": "code",
   "execution_count": 92,
   "metadata": {},
   "outputs": [],
   "source": [
    "list_of_twin_bdays = [len(np.unique(classrooms[n])) for n in range(0, n_simulations-1) if len(np.unique(classrooms[n])) < 20]"
   ]
  },
  {
   "cell_type": "markdown",
   "metadata": {},
   "source": [
    "#### The length of this is going to be the number of times we had a class with shared birthdays, and we can divide that by the total number of simulations:"
   ]
  },
  {
   "cell_type": "code",
   "execution_count": 93,
   "metadata": {},
   "outputs": [
    {
     "name": "stdout",
     "output_type": "stream",
     "text": [
      "The probability that we will have one or more shared birthdays over 20 students is 0.411631\n"
     ]
    }
   ],
   "source": [
    "prop_twinsies = len(list_of_twin_bdays) / n_simulations\n",
    "print(f'The probability that we will have one or more shared birthdays over {n_trials} students is {prop_twinsies}')"
   ]
  },
  {
   "cell_type": "markdown",
   "metadata": {},
   "source": [
    "### 40?"
   ]
  },
  {
   "cell_type": "code",
   "execution_count": 94,
   "metadata": {},
   "outputs": [],
   "source": [
    "# Represent our data's possible outcomes, the number of days in a year\n",
    "# People born on leap days don't actually exist, so we are going to exclude them here:\n",
    "\n",
    "outcomes = range(0, 365)\n",
    "# Create the data!\n",
    "n_trials = 40\n",
    "n_simulations = 1_000_000 "
   ]
  },
  {
   "cell_type": "code",
   "execution_count": 95,
   "metadata": {},
   "outputs": [],
   "source": [
    "# Let's get our simulations. We'll make a simulation of 1 million classrooms of 23 students.\n",
    "#\n",
    "# outcomes: possible unique days of the year that a person could have.\n",
    "# n_simulations: the number of simulated classroom trials\n",
    "# n_trials: the number of student birthdays\n",
    "#"
   ]
  },
  {
   "cell_type": "code",
   "execution_count": 96,
   "metadata": {},
   "outputs": [],
   "source": [
    "classrooms = np.random.choice(outcomes, size=(n_simulations, n_trials))"
   ]
  },
  {
   "cell_type": "markdown",
   "metadata": {},
   "source": [
    "##### Great, so we can say that when len(np.unique()) == 22 or less, we have a situation of doubles)\n",
    "\n",
    "#### Let's make a list of every instance where this is the case in our array of simulated classes:"
   ]
  },
  {
   "cell_type": "code",
   "execution_count": 97,
   "metadata": {},
   "outputs": [],
   "source": [
    "# Let's use a list comprehension: \n",
    "# a list of the length of the uniques for each instance for the full number of simulations by index, \n",
    "# but only if the number of uniques is less than the number of students in the class"
   ]
  },
  {
   "cell_type": "code",
   "execution_count": 98,
   "metadata": {},
   "outputs": [],
   "source": [
    "list_of_twin_bdays = [len(np.unique(classrooms[n])) for n in range(0, n_simulations-1) if len(np.unique(classrooms[n])) < 40]"
   ]
  },
  {
   "cell_type": "markdown",
   "metadata": {},
   "source": [
    "#### The length of this is going to be the number of times we had a class with shared birthdays, and we can divide that by the total number of simulations:"
   ]
  },
  {
   "cell_type": "code",
   "execution_count": 99,
   "metadata": {},
   "outputs": [
    {
     "name": "stdout",
     "output_type": "stream",
     "text": [
      "The probability that we will have one or more shared birthdays over 40 students is 0.891622\n"
     ]
    }
   ],
   "source": [
    "prop_twinsies = len(list_of_twin_bdays) / n_simulations\n",
    "print(f'The probability that we will have one or more shared birthdays over {n_trials} students is {prop_twinsies}')"
   ]
  },
  {
   "cell_type": "code",
   "execution_count": null,
   "metadata": {},
   "outputs": [],
   "source": []
  }
 ],
 "metadata": {
  "kernelspec": {
   "display_name": "Python 3",
   "language": "python",
   "name": "python3"
  },
  "language_info": {
   "codemirror_mode": {
    "name": "ipython",
    "version": 3
   },
   "file_extension": ".py",
   "mimetype": "text/x-python",
   "name": "python",
   "nbconvert_exporter": "python",
   "pygments_lexer": "ipython3",
   "version": "3.8.2"
  }
 },
 "nbformat": 4,
 "nbformat_minor": 4
}
